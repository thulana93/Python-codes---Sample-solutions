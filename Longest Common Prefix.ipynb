{
 "cells": [
  {
   "cell_type": "code",
   "execution_count": null,
   "id": "3d391ee3",
   "metadata": {},
   "outputs": [],
   "source": [
    "'''Longest Common Prefix:\n",
    "Write a function to find the longest common prefix string amongst an array of strings.\n",
    "\n",
    "If there is no common prefix, return an empty string \"\"\n",
    "\n",
    "Input: strs = [\"flower\",\"flow\",\"flight\"]\n",
    "Output: \"fl\"'''\n",
    "\n",
    "\n",
    "class Solution(object):\n",
    "    def longestCommonPrefix(self, strs):\n",
    "        self.strs=strs\n",
    "        strs_1 = strs[0]\n",
    "        global temp\n",
    "        for i in range(1, len(strs)):\n",
    "            temp = ''\n",
    "            for j in range(len(strs[i])):\n",
    "                if j<len(strs_1) and strs_1[j]==strs[i][j]:\n",
    "                    temp+=strs_1[j]\n",
    "                else:\n",
    "                    break\n",
    "            strs_1=temp\n",
    "        return strs_1\n",
    "\n",
    "strs = [\"flower\",\"flow\",\"flight\"]\n",
    "obj=Solution()\n",
    "print(obj.longestCommonPrefix(strs))"
   ]
  }
 ],
 "metadata": {
  "kernelspec": {
   "display_name": "Python 3 (ipykernel)",
   "language": "python",
   "name": "python3"
  },
  "language_info": {
   "codemirror_mode": {
    "name": "ipython",
    "version": 3
   },
   "file_extension": ".py",
   "mimetype": "text/x-python",
   "name": "python",
   "nbconvert_exporter": "python",
   "pygments_lexer": "ipython3",
   "version": "3.9.12"
  }
 },
 "nbformat": 4,
 "nbformat_minor": 5
}
