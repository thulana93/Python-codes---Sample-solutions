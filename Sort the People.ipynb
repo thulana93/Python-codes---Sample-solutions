{
 "cells": [
  {
   "cell_type": "raw",
   "id": "d8ed7535",
   "metadata": {},
   "source": [
    "You are given an array of strings names, and an array heights that consists of distinct positive integers. Both arrays are of length n.\n",
    "\n",
    "For each index i, names[i] and heights[i] denote the name and height of the ith person.\n",
    "\n",
    "Return names sorted in descending order by the people's heights.\n",
    "\n",
    "Input: names = [\"Mary\",\"John\",\"Emma\"], heights = [180,165,170]\n",
    "Output: [\"Mary\",\"Emma\",\"John\"]\n",
    "Explanation: Mary is the tallest, followed by Emma and John."
   ]
  },
  {
   "cell_type": "code",
   "execution_count": 126,
   "id": "ac7fab16",
   "metadata": {},
   "outputs": [
    {
     "name": "stderr",
     "output_type": "stream",
     "text": [
      "C:\\Users\\laptophut\\AppData\\Local\\Temp\\ipykernel_5596\\987587904.py:9: DeprecationWarning: `np.object` is a deprecated alias for the builtin `object`. To silence this warning, use `object` by itself. Doing this will not modify any behavior and is safe. \n",
      "Deprecated in NumPy 1.20; for more details and guidance: https://numpy.org/devdocs/release/1.20.0-notes.html#deprecations\n",
      "  arr = np.column_stack((n, h.astype(np.object)))\n"
     ]
    },
    {
     "data": {
      "text/plain": [
       "['Bob', 'Bob', 'Alice']"
      ]
     },
     "execution_count": 126,
     "metadata": {},
     "output_type": "execute_result"
    }
   ],
   "source": [
    "class Solution(object):\n",
    "    def sortPeople(self, names, heights):\n",
    "        self.names = names\n",
    "        self.heights = heights\n",
    "        \n",
    "        import numpy as np\n",
    "        n = np.array(names)\n",
    "        h = np.array(heights)\n",
    "        arr = np.column_stack((n, h.astype(np.object)))\n",
    "        arr_2 = arr[arr[:, 1].argsort()][::-1]\n",
    "        lst =list(arr_2[:,0])\n",
    "        return lst\n",
    "              \n",
    "names = [\"Bob\",\"Alice\",\"Bob\"]\n",
    "heights = [180,165,170]\n",
    "\n",
    "obj = Solution()\n",
    "obj.sortPeople(names, heights)"
   ]
  },
  {
   "cell_type": "code",
   "execution_count": null,
   "id": "cb6ecbc3",
   "metadata": {},
   "outputs": [],
   "source": []
  }
 ],
 "metadata": {
  "kernelspec": {
   "display_name": "Python 3 (ipykernel)",
   "language": "python",
   "name": "python3"
  },
  "language_info": {
   "codemirror_mode": {
    "name": "ipython",
    "version": 3
   },
   "file_extension": ".py",
   "mimetype": "text/x-python",
   "name": "python",
   "nbconvert_exporter": "python",
   "pygments_lexer": "ipython3",
   "version": "3.9.12"
  }
 },
 "nbformat": 4,
 "nbformat_minor": 5
}
