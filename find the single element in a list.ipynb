{
 "cells": [
  {
   "cell_type": "code",
   "execution_count": null,
   "id": "78f987c6",
   "metadata": {},
   "outputs": [],
   "source": [
    "'''Write a Python program to find the single element in a list where every element appears multiple times except for one.¶\n",
    "Input : [5, 3, 4, 3, 5, 5, 3] \n",
    "Output : 4'''\n",
    "\n",
    "lst=[5, 3, 4, 3, 5, 5, 3, 7]\n",
    "lst_2=[]\n",
    "for ele in lst:\n",
    "    if lst.count(ele)==1:\n",
    "        lst_2.append(ele)\n",
    "        \n",
    "print(lst_2)"
   ]
  }
 ],
 "metadata": {
  "kernelspec": {
   "display_name": "Python 3 (ipykernel)",
   "language": "python",
   "name": "python3"
  },
  "language_info": {
   "codemirror_mode": {
    "name": "ipython",
    "version": 3
   },
   "file_extension": ".py",
   "mimetype": "text/x-python",
   "name": "python",
   "nbconvert_exporter": "python",
   "pygments_lexer": "ipython3",
   "version": "3.9.12"
  }
 },
 "nbformat": 4,
 "nbformat_minor": 5
}
