{
 "cells": [
  {
   "cell_type": "markdown",
   "id": "6432c80a",
   "metadata": {},
   "source": [
    "1-Write a Python program to check a sequence of numbers is an arithmetic progression or not. \n",
    "Input : [5, 7, 9, 11]\n",
    "Output : True\n",
    "In mathematics, an arithmetic progression or arithmetic sequence is a sequence of numbers such that the difference between the consecutive terms is constant.\n",
    "For example, the sequence 5, 7, 9, 11, 13, 15 ... is an arithmetic progression with common difference of 2."
   ]
  },
  {
   "cell_type": "code",
   "execution_count": 18,
   "id": "e64a1c3c",
   "metadata": {},
   "outputs": [
    {
     "name": "stdout",
     "output_type": "stream",
     "text": [
      "True\n"
     ]
    }
   ],
   "source": [
    "lst = [5, 7, 9, 11, 13, 15]\n",
    "lst_2 = []\n",
    "\n",
    "for index, ele in enumerate(lst):\n",
    "    try:\n",
    "        lst_2.append(lst[index + 1] - lst[index])\n",
    "    except:\n",
    "        pass\n",
    "Set = set(lst_2)\n",
    "print(len(Set) == 1)\n"
   ]
  },
  {
   "cell_type": "markdown",
   "id": "73f1e01f",
   "metadata": {},
   "source": [
    "2-Write a Python program to check whether a given number is an ugly number. \n",
    "Input : 12\n",
    "Output : True\n",
    "Ugly numbers are positive numbers whose only prime factors are 2, 3 or 5. The sequence 1, 2, 3, 4, 5, 6, 8, 9, 10, 12, ...\n",
    "shows the first 10 ugly numbers.\n",
    "Note: 1 is typically treated as an ugly number"
   ]
  },
  {
   "cell_type": "code",
   "execution_count": 22,
   "id": "d3c74ba4",
   "metadata": {},
   "outputs": [],
   "source": [
    "def is_ugly(num):\n",
    "    if num == 0:\n",
    "        return False\n",
    "    for i in [2, 3, 5]:\n",
    "        while num%i ==0:\n",
    "            num = num/i\n",
    "            \n",
    "    return num == 1"
   ]
  },
  {
   "cell_type": "code",
   "execution_count": 24,
   "id": "70798793",
   "metadata": {},
   "outputs": [
    {
     "data": {
      "text/plain": [
       "True"
      ]
     },
     "execution_count": 24,
     "metadata": {},
     "output_type": "execute_result"
    }
   ],
   "source": [
    "is_ugly(12)"
   ]
  },
  {
   "cell_type": "markdown",
   "id": "d687d46e",
   "metadata": {},
   "source": [
    "3-Write a Python Function to find the single number in a list that doesn't occur n times.\n",
    "Input : [5, 3,3,4, 4, 3, 4], N=3\n",
    "Output : 5"
   ]
  },
  {
   "cell_type": "code",
   "execution_count": 33,
   "id": "a6689bac",
   "metadata": {},
   "outputs": [
    {
     "name": "stdout",
     "output_type": "stream",
     "text": [
      "5\n"
     ]
    }
   ],
   "source": [
    "def find_number(lst, N):\n",
    "    for ele in lst:\n",
    "        if lst.count(ele) != N:\n",
    "            print(ele)\n",
    "            \n",
    "lst =  [5, 3, 3, 4, 4, 3, 4]\n",
    "N =3 \n",
    "find_number(lst, N)"
   ]
  }
 ],
 "metadata": {
  "kernelspec": {
   "display_name": "Python 3 (ipykernel)",
   "language": "python",
   "name": "python3"
  },
  "language_info": {
   "codemirror_mode": {
    "name": "ipython",
    "version": 3
   },
   "file_extension": ".py",
   "mimetype": "text/x-python",
   "name": "python",
   "nbconvert_exporter": "python",
   "pygments_lexer": "ipython3",
   "version": "3.9.12"
  }
 },
 "nbformat": 4,
 "nbformat_minor": 5
}
