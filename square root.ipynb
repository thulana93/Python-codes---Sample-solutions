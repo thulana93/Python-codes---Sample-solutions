{
 "cells": [
  {
   "cell_type": "code",
   "execution_count": 1,
   "id": "a6e4ec68",
   "metadata": {},
   "outputs": [
    {
     "name": "stdout",
     "output_type": "stream",
     "text": [
      "3\n"
     ]
    }
   ],
   "source": [
    "'''Write a Python program to compute and return the square root of a given 'integer'.¶\n",
    "Input : 16 Output : 4 Note : The returned value will be an 'integer', do not use square root functions from python'''\n",
    "num=9\n",
    "power=0.5\n",
    "\n",
    "Sqrt=num**power\n",
    "\n",
    "print(int(Sqrt))\n"
   ]
  },
  {
   "cell_type": "code",
   "execution_count": null,
   "id": "e582ea8c",
   "metadata": {},
   "outputs": [],
   "source": []
  }
 ],
 "metadata": {
  "kernelspec": {
   "display_name": "Python 3 (ipykernel)",
   "language": "python",
   "name": "python3"
  },
  "language_info": {
   "codemirror_mode": {
    "name": "ipython",
    "version": 3
   },
   "file_extension": ".py",
   "mimetype": "text/x-python",
   "name": "python",
   "nbconvert_exporter": "python",
   "pygments_lexer": "ipython3",
   "version": "3.9.12"
  }
 },
 "nbformat": 4,
 "nbformat_minor": 5
}
