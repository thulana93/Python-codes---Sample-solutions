{
 "cells": [
  {
   "cell_type": "code",
   "execution_count": 1,
   "id": "7e2aad11",
   "metadata": {},
   "outputs": [
    {
     "name": "stdout",
     "output_type": "stream",
     "text": [
      "False\n"
     ]
    }
   ],
   "source": [
    "'''Given an integer x, return true if x is palindrome integer.\n",
    "\n",
    "An integer is a palindrome when it reads the same backward as forward.\n",
    "\n",
    "For example, 121 is a palindrome while 123 is not'''\n",
    "\n",
    "class Solution:\n",
    "    def isPalindrome(self, Int):\n",
    "        self.Int = Int\n",
    "        \n",
    "        Str=str(Int)\n",
    "        lst=[]\n",
    "\n",
    "        for i in Str:\n",
    "            lst.append(i)\n",
    "\n",
    "        res = lst == list(reversed(lst))\n",
    "        print(res)\n",
    "\n",
    "obj=Solution()\n",
    "Palindrome=obj.isPalindrome(10)"
   ]
  },
  {
   "cell_type": "code",
   "execution_count": null,
   "id": "ca249f8b",
   "metadata": {},
   "outputs": [],
   "source": []
  }
 ],
 "metadata": {
  "kernelspec": {
   "display_name": "Python 3 (ipykernel)",
   "language": "python",
   "name": "python3"
  },
  "language_info": {
   "codemirror_mode": {
    "name": "ipython",
    "version": 3
   },
   "file_extension": ".py",
   "mimetype": "text/x-python",
   "name": "python",
   "nbconvert_exporter": "python",
   "pygments_lexer": "ipython3",
   "version": "3.9.12"
  }
 },
 "nbformat": 4,
 "nbformat_minor": 5
}
